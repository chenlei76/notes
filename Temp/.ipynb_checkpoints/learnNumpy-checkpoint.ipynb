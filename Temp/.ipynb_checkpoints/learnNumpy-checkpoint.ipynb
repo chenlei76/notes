{
 "cells": [
  {
   "cell_type": "code",
   "execution_count": 4,
   "metadata": {
    "collapsed": true
   },
   "outputs": [],
   "source": [
    "%matplotlib inline"
   ]
  },
  {
   "cell_type": "code",
   "execution_count": 65,
   "metadata": {
    "collapsed": true
   },
   "outputs": [],
   "source": [
    "import numpy as np\n",
    "import matplotlib as mpl\n",
    "import matplotlib.pyplot as plt\n",
    "import time\n",
    "import math\n",
    "#np.set_printoptions(suppress=True,linewidth=150)"
   ]
  },
  {
   "cell_type": "markdown",
   "metadata": {},
   "source": [
    "## numpy\n"
   ]
  },
  {
   "cell_type": "code",
   "execution_count": 25,
   "metadata": {},
   "outputs": [
    {
     "name": "stdout",
     "output_type": "stream",
     "text": [
      "[[ 0  1  2  3  4  5]\n",
      " [10 11 12 13 14 15]\n",
      " [20 21 22 23 24 25]\n",
      " [30 31 32 33 34 35]\n",
      " [40 41 42 43 44 45]\n",
      " [50 51 52 53 54 55]]\n",
      "可以有一个轴为-1，python自动计算\n",
      "[[ 0  1  2  3  4  5]\n",
      " [10 11 12 13 14 15]\n",
      " [20 21 22 23 24 25]\n",
      " [30 31 32 33 34 35]\n",
      " [40 41 42 43 44 45]\n",
      " [50 51 52 53 54 55]]\n"
     ]
    }
   ],
   "source": [
    "######################################################numpy#################################\n",
    "a = np.arange(0,60,10).reshape((6,1))+np.arange(6) #arange的用法通BIF中的range。np对其做了float的扩展\n",
    "print(a)\n",
    "\n",
    "print(\"可以有一个轴为-1，python自动计算\")\n",
    "b = np.arange(0,60,10).reshape((-1,1))+np.arange(6)\n",
    "print(b)"
   ]
  },
  {
   "cell_type": "code",
   "execution_count": 12,
   "metadata": {},
   "outputs": [
    {
     "name": "stdout",
     "output_type": "stream",
     "text": [
      "(6, 6)\n"
     ]
    }
   ],
   "source": [
    "aShape = a.shape #a的行状\n",
    "print(aShape) "
   ]
  },
  {
   "cell_type": "code",
   "execution_count": 23,
   "metadata": {},
   "outputs": [
    {
     "name": "stdout",
     "output_type": "stream",
     "text": [
      "int64\n",
      "进行硬编码：(禁止)\n",
      "int64\n",
      "安全编码\n",
      "int32\n"
     ]
    }
   ],
   "source": [
    "aType = a.dtype #数据类型\n",
    "print(aType)\n",
    "\n",
    "print(\"进行硬编码：(禁止)\")\n",
    "a.dtype = 'int64'\n",
    "print(a.dtype)\n",
    "\n",
    "print(\"安全编码\")\n",
    "f = a.astype(np.int)\n",
    "print(f.dtype)"
   ]
  },
  {
   "cell_type": "code",
   "execution_count": 21,
   "metadata": {},
   "outputs": [
    {
     "name": "stdout",
     "output_type": "stream",
     "text": [
      "[[  1.+0.j   2.+0.j   3.+0.j   4.+0.j]\n",
      " [  5.+0.j   6.+0.j   7.+0.j   8.+0.j]\n",
      " [  9.+0.j  10.+0.j  11.+0.j  12.+0.j]]\n"
     ]
    }
   ],
   "source": [
    "f = np.array([[1,2,3,4],[5,6,7,8],[9,10,11,12]],dtype = np.complex) #初始化array\n",
    "print(f)"
   ]
  },
  {
   "cell_type": "code",
   "execution_count": 33,
   "metadata": {},
   "outputs": [
    {
     "name": "stdout",
     "output_type": "stream",
     "text": [
      "[  1.   2.   3.   4.   5.   6.   7.   8.   9.  10.]\n",
      "[ 1.   1.9  2.8  3.7  4.6  5.5  6.4  7.3  8.2  9.1]\n",
      "[    10.             21.5443469      46.41588834    100.            215.443469\n",
      "    464.15888336   1000.           2154.43469003   4641.58883361  10000.        ]\n"
     ]
    }
   ],
   "source": [
    "b = np.linspace(1,10,10) #等差数列，类似arange。包括右边界。\n",
    "print(b)\n",
    "\n",
    "b = np.linspace(1,10,10,endpoint=False)\n",
    "print(b)\n",
    "\n",
    "b = np.logspace(1,4,10,endpoint=True,base = 10) #等比数列。取对后，称为等差数列。默认base=10.从[10**1,10**4]中挑出来10个数\n",
    "print(b)"
   ]
  },
  {
   "cell_type": "code",
   "execution_count": 58,
   "metadata": {
    "collapsed": true
   },
   "outputs": [],
   "source": [
    "####################################################### 布尔数组#############################"
   ]
  },
  {
   "cell_type": "code",
   "execution_count": 36,
   "metadata": {},
   "outputs": [
    {
     "name": "stdout",
     "output_type": "stream",
     "text": [
      "[ 0.88086181  0.59833856  0.22213535  0.4079971   0.75971792  0.13383889\n",
      "  0.63342909  0.88138186  0.94756023  0.71439647]\n",
      "[ True  True False False  True False  True  True  True  True]\n"
     ]
    }
   ],
   "source": [
    "a = np.random.rand(10)#生成[0,1)中的10个随机数\n",
    "print(a)\n",
    "print(a>0.5)"
   ]
  },
  {
   "cell_type": "code",
   "execution_count": 39,
   "metadata": {},
   "outputs": [
    {
     "name": "stdout",
     "output_type": "stream",
     "text": [
      "[ 0.88086181  0.59833856  0.75971792  0.63342909  0.88138186  0.94756023\n",
      "  0.71439647]\n"
     ]
    }
   ],
   "source": [
    "#将a>0.5作为索引值。那么True对应的val将被输出\n",
    "print(a[a>0.5])"
   ]
  },
  {
   "cell_type": "code",
   "execution_count": 41,
   "metadata": {},
   "outputs": [
    {
     "name": "stdout",
     "output_type": "stream",
     "text": [
      "[ 0.5         0.5         0.22213535  0.4079971   0.5         0.13383889\n",
      "  0.5         0.5         0.5         0.5       ]\n"
     ]
    }
   ],
   "source": [
    "#将大于0.5的强制改为0.5\n",
    "a[a>0.5] = 0.5\n",
    "print(a)"
   ]
  },
  {
   "cell_type": "code",
   "execution_count": 59,
   "metadata": {
    "collapsed": true
   },
   "outputs": [],
   "source": [
    "################################################# 二维数组切片##########################################"
   ]
  },
  {
   "cell_type": "code",
   "execution_count": 52,
   "metadata": {},
   "outputs": [
    {
     "name": "stdout",
     "output_type": "stream",
     "text": [
      "a is\n",
      " [ 0 10 20 30 40 50]\n",
      "\n",
      "b is\n",
      " [[ 0]\n",
      " [10]\n",
      " [20]\n",
      " [30]\n",
      " [40]\n",
      " [50]]\n",
      "\n",
      " c is\n",
      " [0 1 2 3 4 5]\n",
      "\n",
      "a+c is\n",
      " [ 0 11 22 33 44 55]\n",
      "\n",
      "b+c is\n",
      " [[ 0  1  2  3  4  5]\n",
      " [10 11 12 13 14 15]\n",
      " [20 21 22 23 24 25]\n",
      " [30 31 32 33 34 35]\n",
      " [40 41 42 43 44 45]\n",
      " [50 51 52 53 54 55]]\n"
     ]
    }
   ],
   "source": [
    "a = np.arange(0,60,10)\n",
    "print('a is\\n',a)\n",
    "b = a.reshape((-1,1))\n",
    "print('\\nb is\\n',b)\n",
    "\n",
    "c = np.arange(6)\n",
    "print('\\n c is\\n',c)\n",
    "\n",
    "print('\\na+c is\\n',a+c)\n",
    "print('\\nb+c is\\n',b+c)#b先扩展成和c向量维度先同的，再相加"
   ]
  },
  {
   "cell_type": "code",
   "execution_count": 57,
   "metadata": {},
   "outputs": [
    {
     "name": "stdout",
     "output_type": "stream",
     "text": [
      "[[ 0  1  2  3  4  5]\n",
      " [10 11 12 13 14 15]\n",
      " [20 21 22 23 24 25]\n",
      " [30 31 32 33 34 35]\n",
      " [40 41 42 43 44 45]\n",
      " [50 51 52 53 54 55]]\n",
      "[ 2 13 24]\n",
      "[42 43 44]\n",
      "[[42 43 44]\n",
      " [52 53 54]]\n",
      "[[ 0  1  2  3  4  5]\n",
      " [20 21 22 23 24 25]\n",
      " [50 51 52 53 54 55]]\n"
     ]
    }
   ],
   "source": [
    "#in one word\n",
    "a = np.arange(0,60,10).reshape((-1,1))+np.arange(6)\n",
    "print(a)\n",
    "\n",
    "#slice now\n",
    "print(a[[0,1,2],[2,3,4]])\n",
    "print(a[4,[2,3,4]])\n",
    "print(a[4:,[2,3,4]])\n",
    "\n",
    "boolen = np.array([True,False,True,False,False,True])\n",
    "print(a[boolen])"
   ]
  },
  {
   "cell_type": "code",
   "execution_count": 61,
   "metadata": {
    "collapsed": true
   },
   "outputs": [],
   "source": [
    "######################################## numpy 和 数学库 效率比较########################################"
   ]
  },
  {
   "cell_type": "code",
   "execution_count": 69,
   "metadata": {},
   "outputs": [
    {
     "name": "stdout",
     "output_type": "stream",
     "text": [
      "4.7425284833479964e-05 9.131136928886008e-05 1.9253731339616258\n"
     ]
    }
   ],
   "source": [
    "x = np.linspace(0,10,100)\n",
    "start = time.clock()\n",
    "y = np.sin(x)\n",
    "t1 = time.clock()-start\n",
    "\n",
    "x = x.tolist()\n",
    "start = time.clock()\n",
    "for i,t in enumerate(x):\n",
    "    x[i]= math.sin(t)\n",
    "t2 = time.clock()-start\n",
    "\n",
    "print(t1,t2,t2/t1)"
   ]
  },
  {
   "cell_type": "code",
   "execution_count": 73,
   "metadata": {},
   "outputs": [
    {
     "name": "stdout",
     "output_type": "stream",
     "text": [
      "0.008187232193108684 2.2650882272046147e-05 0.0027666104658802437\n",
      "4.247040465088503e-06 7.432320785483171e-06 1.749999993307879\n",
      "6.724480670072808e-06 6.158208628903594e-05 9.157894759532288\n",
      "2.512832253387387e-05 0.00046717444757859994 18.59154931447701\n",
      "0.00016386497668463562 0.0036630723727171244 22.35421166151231\n",
      "0.0018265813058633285 0.031807855396777995 17.413873280469222\n",
      "0.01142560052267072 0.2937713258941699 25.71167487531773\n",
      "0.11767699629479011 2.9285152311256866 24.88604674943883\n"
     ]
    }
   ],
   "source": [
    "for j in np.logspace(0,7,8,dtype=np.int):\n",
    "    x = np.linspace(0,10,j)\n",
    "    start = time.clock()\n",
    "    y = np.sin(x)\n",
    "    t1 = time.clock()-start\n",
    "\n",
    "    x = x.tolist()\n",
    "    start = time.clock()\n",
    "    for i,t in enumerate(x):\n",
    "        x[i]= math.sin(t)\n",
    "    t2 = time.clock()-start\n",
    "    print(t1,t2,t2/t1)"
   ]
  },
  {
   "cell_type": "code",
   "execution_count": 74,
   "metadata": {
    "collapsed": true
   },
   "outputs": [],
   "source": [
    "#################################################元素去重###############################################"
   ]
  },
  {
   "cell_type": "code",
   "execution_count": 76,
   "metadata": {},
   "outputs": [
    {
     "name": "stdout",
     "output_type": "stream",
     "text": [
      "[1 2 3 4 5 5 7 3 2 2 8 8]\n",
      "[1 2 3 4 5 7 8]\n"
     ]
    }
   ],
   "source": [
    "a = np.array((1,2,3,4,5,5,7,3,2,2,8,8))\n",
    "print(a)\n",
    "print(np.unique(a))#针对一元数组"
   ]
  },
  {
   "cell_type": "code",
   "execution_count": 80,
   "metadata": {},
   "outputs": [
    {
     "name": "stdout",
     "output_type": "stream",
     "text": [
      "转化为虚数： [ 1.+3.j  3.+4.j  1.+3.j]\n",
      "虚数去重： [ 1.+3.j  3.+4.j]\n",
      "(array([ 1.+3.j,  3.+4.j]), array([0, 1], dtype=int64))\n",
      "去重后： [[1 3]\n",
      " [3 4]]\n"
     ]
    }
   ],
   "source": [
    "c = np.array(((1,3),(3,4),(1,3)))\n",
    "x = c[:,0]+c[:,1]*1j\n",
    "print(\"转化为虚数：\",x)\n",
    "print(\"虚数去重：\",np.unique(x))\n",
    "\n",
    "print(np.unique(x,return_index = True)) #返回原来的索引位置\n",
    "idx = np.unique(x,return_index=True)[1]\n",
    "print(\"去重后：\",c[idx])"
   ]
  },
  {
   "cell_type": "code",
   "execution_count": 90,
   "metadata": {},
   "outputs": [
    {
     "name": "stdout",
     "output_type": "stream",
     "text": [
      "方法二：\n",
      "\n",
      "[[1 3]\n",
      " [3 4]\n",
      " [1 3]]\n",
      "\n",
      "[[1 3]\n",
      " [3 4]]\n"
     ]
    },
    {
     "data": {
      "text/plain": [
       "{(1, 2)}"
      ]
     },
     "execution_count": 90,
     "metadata": {},
     "output_type": "execute_result"
    }
   ],
   "source": [
    "print(\"方法二：\\n\")\n",
    "c = np.array(((1,3),(3,4),(1,3)))\n",
    "print(c)\n",
    "print()\n",
    "\n",
    "newC=np.array(list(set([tuple(t) for t in c])))\n",
    "print(newC)\n",
    "\n",
    "a = [(1,2),(1,2)]\n",
    "set(a)"
   ]
  },
  {
   "cell_type": "code",
   "execution_count": 91,
   "metadata": {
    "collapsed": true
   },
   "outputs": [],
   "source": [
    "#############################################stack 和 维度 ##############################"
   ]
  },
  {
   "cell_type": "code",
   "execution_count": 103,
   "metadata": {},
   "outputs": [
    {
     "name": "stdout",
     "output_type": "stream",
     "text": [
      "[[[ 1  2  3]\n",
      "  [ 4  5  6]]\n",
      "\n",
      " [[10 11 12]\n",
      "  [13 14 15]]] (2, 2, 3)\n",
      "\n",
      "[[[ 1  2  3]\n",
      "  [10 11 12]]\n",
      "\n",
      " [[ 4  5  6]\n",
      "  [13 14 15]]] (2, 2, 3)\n",
      "应用在图像领域 \n"
     ]
    }
   ],
   "source": [
    "a = np.array([[1,2,3],[4,5,6]])\n",
    "b = np.array([[10,11,12],[13,14,15]])\n",
    "\n",
    "print(np.stack((a,b),axis = 0),np.stack((a,b),axis = 0).shape) #注意堆叠时候的axis轴\n",
    "print()\n",
    "print(np.stack((a,b),axis = 1),np.stack((a,b),axis = 1).shape)\n",
    "\n",
    "print(\"应用在图像领域 \")"
   ]
  },
  {
   "cell_type": "code",
   "execution_count": 104,
   "metadata": {
    "collapsed": true
   },
   "outputs": [],
   "source": [
    "###############################################dot向量点成################################"
   ]
  },
  {
   "cell_type": "code",
   "execution_count": 107,
   "metadata": {},
   "outputs": [
    {
     "name": "stdout",
     "output_type": "stream",
     "text": [
      "矩阵乘法： [[ 90  96 102]\n",
      " [216 231 246]\n",
      " [342 366 390]]\n",
      "\n",
      "按位乘法： [[ 11  24  39]\n",
      " [ 56  75  96]\n",
      " [119 144 171]]\n"
     ]
    }
   ],
   "source": [
    "a = np.arange(1,10).reshape(3,3)\n",
    "b = a+10\n",
    "print('矩阵乘法：',np.dot(a,b))\n",
    "print()\n",
    "print('按位乘法：',a*b)\n",
    "\n"
   ]
  },
  {
   "cell_type": "code",
   "execution_count": 108,
   "metadata": {},
   "outputs": [
    {
     "name": "stdout",
     "output_type": "stream",
     "text": [
      "实现extend： [[ 1  2  3]\n",
      " [ 4  5  6]\n",
      " [ 7  8  9]\n",
      " [11 12 13]\n",
      " [14 15 16]\n",
      " [17 18 19]]\n"
     ]
    }
   ],
   "source": [
    "print(\"实现extend：\",np.concatenate((a,b)))"
   ]
  },
  {
   "cell_type": "code",
   "execution_count": null,
   "metadata": {
    "collapsed": true
   },
   "outputs": [],
   "source": []
  }
 ],
 "metadata": {
  "kernelspec": {
   "display_name": "Python 3",
   "language": "python",
   "name": "python3"
  },
  "language_info": {
   "codemirror_mode": {
    "name": "ipython",
    "version": 3
   },
   "file_extension": ".py",
   "mimetype": "text/x-python",
   "name": "python",
   "nbconvert_exporter": "python",
   "pygments_lexer": "ipython3",
   "version": "3.6.1"
  }
 },
 "nbformat": 4,
 "nbformat_minor": 2
}
