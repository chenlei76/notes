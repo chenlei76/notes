{
 "cells": [
  {
   "cell_type": "code",
   "execution_count": 1,
   "metadata": {
    "collapsed": true
   },
   "outputs": [],
   "source": [
    "import pandas as pd\n",
    "import numpy as np\n",
    "from pandas import DataFrame\n",
    "from pandas import Series"
   ]
  },
  {
   "cell_type": "markdown",
   "metadata": {},
   "source": [
    "## 1.合并数据集\n",
    "- pd.merge():各种参数的使用"
   ]
  },
  {
   "cell_type": "code",
   "execution_count": 3,
   "metadata": {},
   "outputs": [
    {
     "name": "stdout",
     "output_type": "stream",
     "text": [
      "   data1 key\n",
      "0      0   b\n",
      "1      1   b\n",
      "2      2   a\n",
      "3      3   c\n",
      "4      4   a\n",
      "5      5   a\n",
      "6      6   b\n"
     ]
    }
   ],
   "source": [
    "df1 = DataFrame({'key':['b','b','a','c','a','a','b'],\\\n",
    "                   'data1':[i for i in range(7)]})\n",
    "df2 = DataFrame({'key':['a','b','d'],\\\n",
    "                    'data2':[i for i in range(3)]})\n",
    "print(df1)"
   ]
  },
  {
   "cell_type": "code",
   "execution_count": 4,
   "metadata": {},
   "outputs": [
    {
     "name": "stdout",
     "output_type": "stream",
     "text": [
      "   data2 key\n",
      "0      0   a\n",
      "1      1   b\n",
      "2      2   d\n"
     ]
    }
   ],
   "source": [
    "print(df2)"
   ]
  },
  {
   "cell_type": "code",
   "execution_count": 5,
   "metadata": {},
   "outputs": [
    {
     "name": "stdout",
     "output_type": "stream",
     "text": [
      "   data1 key  data2\n",
      "0      0   b      1\n",
      "1      1   b      1\n",
      "2      6   b      1\n",
      "3      2   a      0\n",
      "4      4   a      0\n",
      "5      5   a      0\n"
     ]
    }
   ],
   "source": [
    "print(pd.merge(df1,df2,on='key') )\n",
    "#pd1 和 pd2 进行inner联结\n",
    "#on ：指明将列当做键。默认是重叠的。"
   ]
  },
  {
   "cell_type": "code",
   "execution_count": 6,
   "metadata": {},
   "outputs": [
    {
     "name": "stdout",
     "output_type": "stream",
     "text": [
      "   data1 key1  data2 key2\n",
      "0      0    b      1    b\n",
      "1      1    b      1    b\n",
      "2      6    b      1    b\n",
      "3      2    a      0    a\n",
      "4      4    a      0    a\n",
      "5      5    a      0    a\n"
     ]
    }
   ],
   "source": [
    "df3 = DataFrame({'key1':['b','b','a','c','a','a','b'],\\\n",
    "                   'data1':[i for i in range(7)]})\n",
    "df4 = DataFrame({'key2':['a','b','d'],\\\n",
    "                    'data2':[i for i in range(3)]})\n",
    "# 如果没有重叠的列名\n",
    "# 分别指定\n",
    "print(pd.merge(df3,df4,left_on=\"key1\",right_on='key2'))"
   ]
  },
  {
   "cell_type": "code",
   "execution_count": 7,
   "metadata": {},
   "outputs": [
    {
     "name": "stdout",
     "output_type": "stream",
     "text": [
      "   data1 key  data2\n",
      "0    0.0   b    1.0\n",
      "1    1.0   b    1.0\n",
      "2    6.0   b    1.0\n",
      "3    2.0   a    0.0\n",
      "4    4.0   a    0.0\n",
      "5    5.0   a    0.0\n",
      "6    3.0   c    NaN\n",
      "7    NaN   d    2.0\n"
     ]
    }
   ],
   "source": [
    "print(pd.merge(df1,df2,how=\"outer\")) # 类似数据库的操作：inner、outer、left、right"
   ]
  },
  {
   "cell_type": "markdown",
   "metadata": {},
   "source": [
    "### 1.1索引上的合并"
   ]
  },
  {
   "cell_type": "code",
   "execution_count": 63,
   "metadata": {
    "collapsed": true
   },
   "outputs": [],
   "source": [
    "left1 = DataFrame({'key':['a','b','a','a','b','c'],\\\n",
    "                   'data1':[i for i in range(6)]})\n",
    "right1 = DataFrame({'group_val':[3.5,7]},index=['a','b'])\n"
   ]
  },
  {
   "cell_type": "code",
   "execution_count": 62,
   "metadata": {},
   "outputs": [
    {
     "name": "stdout",
     "output_type": "stream",
     "text": [
      "   group_val\n",
      "a        3.5\n",
      "b        7.0\n",
      "   data1 key\n",
      "0      0   a\n",
      "1      1   b\n",
      "2      2   a\n",
      "3      3   a\n",
      "4      4   b\n",
      "5      5   c\n"
     ]
    }
   ],
   "source": [
    "print(right1)\n",
    "print(left1)"
   ]
  },
  {
   "cell_type": "code",
   "execution_count": 61,
   "metadata": {},
   "outputs": [
    {
     "name": "stdout",
     "output_type": "stream",
     "text": [
      "   data1 key  group_val\n",
      "0      0   a        3.5\n",
      "2      2   a        3.5\n",
      "3      3   a        3.5\n",
      "1      1   b        7.0\n",
      "4      4   b        7.0\n"
     ]
    }
   ],
   "source": [
    "print(pd.merge(left1,right1,left_on='key',right_index=True))"
   ]
  },
  {
   "cell_type": "markdown",
   "metadata": {},
   "source": [
    "### 1.2轴向连接\n",
    "\n",
    "- np.concatenate\n",
    "- pd.concat([s1,s2,s3])"
   ]
  },
  {
   "cell_type": "code",
   "execution_count": 31,
   "metadata": {},
   "outputs": [
    {
     "data": {
      "text/plain": [
       "array([[ 0,  1,  2,  3],\n",
       "       [ 4,  5,  6,  7],\n",
       "       [ 8,  9, 10, 11]])"
      ]
     },
     "execution_count": 31,
     "metadata": {},
     "output_type": "execute_result"
    }
   ],
   "source": [
    "arr = np.arange(12).reshape((3,4))\n",
    "arr"
   ]
  },
  {
   "cell_type": "code",
   "execution_count": 33,
   "metadata": {},
   "outputs": [
    {
     "data": {
      "text/plain": [
       "array([[ 0,  1,  2,  3,  0,  1,  2,  3],\n",
       "       [ 4,  5,  6,  7,  4,  5,  6,  7],\n",
       "       [ 8,  9, 10, 11,  8,  9, 10, 11]])"
      ]
     },
     "execution_count": 33,
     "metadata": {},
     "output_type": "execute_result"
    }
   ],
   "source": [
    "np.concatenate([arr,arr],axis=1) #numpy对象的方法"
   ]
  },
  {
   "cell_type": "code",
   "execution_count": 36,
   "metadata": {
    "collapsed": true
   },
   "outputs": [],
   "source": [
    "s1 = Series([0,1],index=['a','b'])\n",
    "s2 = Series([2,3,4],index=['c','d','e'])\n",
    "s3 = Series([5,6],index=['f','g'])"
   ]
  },
  {
   "cell_type": "code",
   "execution_count": 37,
   "metadata": {},
   "outputs": [
    {
     "data": {
      "text/plain": [
       "a    0\n",
       "b    1\n",
       "c    2\n",
       "d    3\n",
       "e    4\n",
       "f    5\n",
       "g    6\n",
       "dtype: int64"
      ]
     },
     "execution_count": 37,
     "metadata": {},
     "output_type": "execute_result"
    }
   ],
   "source": [
    "pd.concat([s1,s2,s3])"
   ]
  },
  {
   "cell_type": "code",
   "execution_count": 60,
   "metadata": {},
   "outputs": [
    {
     "name": "stdout",
     "output_type": "stream",
     "text": [
      "     0    1    2\n",
      "a  0.0  NaN  NaN\n",
      "b  1.0  NaN  NaN\n",
      "c  NaN  2.0  NaN\n",
      "d  NaN  3.0  NaN\n",
      "e  NaN  4.0  NaN\n",
      "f  NaN  NaN  5.0\n",
      "g  NaN  NaN  6.0\n"
     ]
    }
   ],
   "source": [
    "print(pd.concat([s1,s2,s3],axis=1)) # 按照列"
   ]
  },
  {
   "cell_type": "code",
   "execution_count": 48,
   "metadata": {},
   "outputs": [
    {
     "name": "stdout",
     "output_type": "stream",
     "text": [
      "     0  1\n",
      "a  0.0  0\n",
      "b  1.0  5\n",
      "f  NaN  5\n",
      "g  NaN  6\n",
      "   0  1\n",
      "a  0  0\n",
      "b  1  5\n",
      "one    a    0\n",
      "       b    1\n",
      "two    a    0\n",
      "       b    1\n",
      "three  a    0\n",
      "       b    1\n",
      "dtype: int64\n",
      "   one  two  three\n",
      "a    0    0      0\n",
      "b    1    1      1\n"
     ]
    }
   ],
   "source": [
    "s4 = pd.concat([s1*5,s3])\n",
    "print(pd.concat([s1,s4],axis=1))\n",
    "print(pd.concat([s1,s4],axis=1,join=\"inner\")) #取交集\n",
    "print(pd.concat([s1,s1,s1],keys=['one','two','three']))# 创建层次化索引\n",
    "print(pd.concat([s1,s1,s1],axis=1,keys=['one','two','three']))# 此时，层次化keys会变成列头"
   ]
  },
  {
   "cell_type": "code",
   "execution_count": 49,
   "metadata": {},
   "outputs": [
    {
     "name": "stdout",
     "output_type": "stream",
     "text": [
      "   one  two\n",
      "a    0    1\n",
      "b    2    3\n",
      "c    4    5\n",
      "   three  four\n",
      "a      0     1\n",
      "c      2     3\n"
     ]
    }
   ],
   "source": [
    "# 下面展示对于DataFrame的效果\n",
    "df1 = DataFrame(np.arange(6).reshape(3,2),index=['a','b','c'],\\\n",
    "               columns=['one','two'])\n",
    "df2 = DataFrame(np.arange(4).reshape(2,2),index=['a','c'],\\\n",
    "               columns=['three','four'])\n",
    "print(df1);print(df2)"
   ]
  },
  {
   "cell_type": "code",
   "execution_count": 50,
   "metadata": {},
   "outputs": [
    {
     "name": "stdout",
     "output_type": "stream",
     "text": [
      "  level1     level2     \n",
      "     one two  three four\n",
      "a      0   1    0.0  1.0\n",
      "b      2   3    NaN  NaN\n",
      "c      4   5    2.0  3.0\n",
      "upper level1     level2     \n",
      "lower    one two  three four\n",
      "a          0   1    0.0  1.0\n",
      "b          2   3    NaN  NaN\n",
      "c          4   5    2.0  3.0\n"
     ]
    }
   ],
   "source": [
    "print(pd.concat([df1,df2],axis=1,keys=['level1','level2']))\n",
    "print(pd.concat([df1,df2],axis=1,keys=['level1','level2'],names=['upper','lower']))"
   ]
  },
  {
   "cell_type": "code",
   "execution_count": 51,
   "metadata": {},
   "outputs": [
    {
     "name": "stdout",
     "output_type": "stream",
     "text": [
      "          a         b         c         d\n",
      "0 -0.447944  0.147116  0.342810 -0.618590\n",
      "1  0.930223  0.379391 -0.994802  0.008333\n",
      "2 -0.239952  0.150497 -0.603801 -1.153930\n",
      "          b         d         a\n",
      "0 -0.332100  0.245658  1.448707\n",
      "1  1.137389 -0.170095 -1.552497\n"
     ]
    }
   ],
   "source": [
    "df1 = DataFrame(np.random.randn(3,4),columns=['a','b','c','d'])\n",
    "df2 = DataFrame(np.random.randn(2,3),columns=['b','d','a'])\n",
    "print(df1)\n",
    "print(df2)"
   ]
  },
  {
   "cell_type": "code",
   "execution_count": 59,
   "metadata": {},
   "outputs": [
    {
     "name": "stdout",
     "output_type": "stream",
     "text": [
      "          a         b         c         d\n",
      "0 -0.447944  0.147116  0.342810 -0.618590\n",
      "1  0.930223  0.379391 -0.994802  0.008333\n",
      "2 -0.239952  0.150497 -0.603801 -1.153930\n",
      "0  1.448707 -0.332100       NaN  0.245658\n",
      "1 -1.552497  1.137389       NaN -0.170095\n",
      "应该用这种发法\n",
      "          a         b         c         d\n",
      "0 -0.447944  0.147116  0.342810 -0.618590\n",
      "1  0.930223  0.379391 -0.994802  0.008333\n",
      "2 -0.239952  0.150497 -0.603801 -1.153930\n",
      "3  1.448707 -0.332100       NaN  0.245658\n",
      "4 -1.552497  1.137389       NaN -0.170095\n"
     ]
    }
   ],
   "source": [
    "\n",
    "print(pd.concat([df1,df2]))\n",
    "\n",
    "print(\"应该用这种发法\")\n",
    "print(pd.concat([df1,df2],ignore_index=True)) #不保留原来的行索引，产生新的行索引"
   ]
  },
  {
   "cell_type": "markdown",
   "metadata": {},
   "source": [
    "### 1.4合并重叠数据 \n",
    "\n",
    "- np.where\n",
    "- pandas:combine_first"
   ]
  },
  {
   "cell_type": "code",
   "execution_count": 70,
   "metadata": {},
   "outputs": [
    {
     "name": "stdout",
     "output_type": "stream",
     "text": [
      "[ 1.  2.  3.  4.  4.]\n"
     ]
    }
   ],
   "source": [
    "# Array或者Series合并\n",
    "a = Series([1,2,3,np.nan,4])\n",
    "b= Series([1,3,3,4,np.nan])\n",
    "print(np.where(pd.isnull(a),b,a))"
   ]
  },
  {
   "cell_type": "code",
   "execution_count": 72,
   "metadata": {},
   "outputs": [
    {
     "name": "stdout",
     "output_type": "stream",
     "text": [
      "     a  b    c\n",
      "0  1.0  2  8.0\n",
      "1  2.0  3  NaN\n",
      "2  NaN  5  0.0\n"
     ]
    }
   ],
   "source": [
    "# Pandas提供了combine_first方法\n",
    "df1 = DataFrame({'a':[1,2,np.nan],\\\n",
    "                'b':[2,3,5],\\\n",
    "                'c':[8,np.nan,0]})\n",
    "df2 = DataFrame({'a':[5.,4],\\\n",
    "                'b':[np.nan,3.]})\n",
    "print(df1.combine_first(df2))"
   ]
  },
  {
   "cell_type": "markdown",
   "metadata": {},
   "source": [
    "## 2.重塑和轴向旋转"
   ]
  },
  {
   "cell_type": "markdown",
   "metadata": {},
   "source": [
    "### 2.1重塑层次化索引\n",
    "\n",
    "- stack：将列旋转为行\n",
    "- unstack：将行旋转为列\n",
    "- 默认情况下都是最内层\n"
   ]
  },
  {
   "cell_type": "code",
   "execution_count": 95,
   "metadata": {},
   "outputs": [
    {
     "name": "stdout",
     "output_type": "stream",
     "text": [
      "number    onw  two  three\n",
      "state                    \n",
      "Ohio        0    1      2\n",
      "Colorade    3    4      5\n"
     ]
    }
   ],
   "source": [
    "data = DataFrame(np.arange(6).reshape((2,3)),\\\n",
    "                index=pd.Index(['Ohio','Colorade'],name='state'),\\\n",
    "                columns=pd.Index(['onw','two','three'],name='number'))\n",
    "print(data)"
   ]
  },
  {
   "cell_type": "code",
   "execution_count": 82,
   "metadata": {},
   "outputs": [
    {
     "name": "stdout",
     "output_type": "stream",
     "text": [
      "state     number\n",
      "Ohio      onw       0\n",
      "          two       1\n",
      "          three     2\n",
      "Colorade  onw       3\n",
      "          two       4\n",
      "          three     5\n",
      "dtype: int32\n"
     ]
    }
   ],
   "source": [
    "result = data.stack()\n",
    "print(result)"
   ]
  },
  {
   "cell_type": "code",
   "execution_count": 83,
   "metadata": {},
   "outputs": [
    {
     "name": "stdout",
     "output_type": "stream",
     "text": [
      "number    onw  two  three\n",
      "state                    \n",
      "Ohio        0    1      2\n",
      "Colorade    3    4      5\n"
     ]
    }
   ],
   "source": [
    "print(result.unstack()) #我们再重排回去"
   ]
  },
  {
   "cell_type": "code",
   "execution_count": 92,
   "metadata": {},
   "outputs": [
    {
     "name": "stdout",
     "output_type": "stream",
     "text": [
      "number    onw  two  three\n",
      "state                    \n",
      "Ohio        0    1      2\n",
      "Colorade    3    4      5\n",
      "state   Ohio  Colorade\n",
      "number                \n",
      "onw        0         3\n",
      "two        1         4\n",
      "three      2         5\n",
      "state   Ohio  Colorade\n",
      "number                \n",
      "onw        0         3\n",
      "two        1         4\n",
      "three      2         5\n"
     ]
    }
   ],
   "source": [
    "print(result.unstack(1))\n",
    "print(result.unstack(0))\n",
    "print(result.unstack('state'))"
   ]
  },
  {
   "cell_type": "markdown",
   "metadata": {},
   "source": [
    "### 2.2长格式=>宽格式\n",
    "\n",
    "数据的格式如下：\n",
    "\n",
    "![](1.png)\n",
    "\n",
    "处理成如下形式：\n",
    "\n",
    "![](2.png)"
   ]
  },
  {
   "cell_type": "code",
   "execution_count": null,
   "metadata": {
    "collapsed": true
   },
   "outputs": [],
   "source": []
  }
 ],
 "metadata": {
  "kernelspec": {
   "display_name": "Python 3",
   "language": "python",
   "name": "python3"
  },
  "language_info": {
   "codemirror_mode": {
    "name": "ipython",
    "version": 3
   },
   "file_extension": ".py",
   "mimetype": "text/x-python",
   "name": "python",
   "nbconvert_exporter": "python",
   "pygments_lexer": "ipython3",
   "version": "3.6.1"
  }
 },
 "nbformat": 4,
 "nbformat_minor": 2
}
