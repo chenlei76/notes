{
 "cells": [
  {
   "cell_type": "code",
   "execution_count": 2,
   "metadata": {
    "collapsed": true
   },
   "outputs": [],
   "source": [
    "import numpy as np\n",
    "import pandas as pd"
   ]
  },
  {
   "cell_type": "markdown",
   "metadata": {},
   "source": [
    "## 1.array数组"
   ]
  },
  {
   "cell_type": "markdown",
   "metadata": {},
   "source": [
    "### 1.1创建array数组\n",
    "\n",
    "- np.array\n",
    "- np.zeros/empty/ones:传入形状即可\n",
    "- np.arange():比range更强大\n",
    "- np.diag():对角阵\n",
    "\n",
    "**详细的见下面图片和例子**\n",
    "![](1.png)"
   ]
  },
  {
   "cell_type": "code",
   "execution_count": 2,
   "metadata": {},
   "outputs": [
    {
     "name": "stdout",
     "output_type": "stream",
     "text": [
      "[ 6.   7.5  8.   0.   1. ]\n",
      "[[ 6.   7.5  8.   0.   1. ]\n",
      " [ 6.   7.5  8.   0.   1. ]]\n"
     ]
    }
   ],
   "source": [
    "data1 = [6,7.5,8,0,1]\n",
    "arr1 = np.array(data1)#创建array\n",
    "print(arr1)\n",
    "\n",
    "data2 = [data1,data1]\n",
    "arr2 = np.array(data2) #多维度\n",
    "print(arr2)"
   ]
  },
  {
   "cell_type": "code",
   "execution_count": 3,
   "metadata": {},
   "outputs": [
    {
     "name": "stdout",
     "output_type": "stream",
     "text": [
      "(5,) (2, 5)\n",
      "float64 float64\n"
     ]
    }
   ],
   "source": [
    "print(arr1.shape,arr2.shape)\n",
    "print(arr1.dtype,arr2.dtype)"
   ]
  },
  {
   "cell_type": "code",
   "execution_count": 8,
   "metadata": {},
   "outputs": [
    {
     "name": "stdout",
     "output_type": "stream",
     "text": [
      "[ 0.  0.  0.  0.  0.  0.  0.  0.  0.  0.]\n",
      "[[[ 0.  0.]\n",
      "  [ 0.  0.]\n",
      "  [ 0.  0.]]\n",
      "\n",
      " [[ 0.  0.]\n",
      "  [ 0.  0.]\n",
      "  [ 0.  0.]]]\n"
     ]
    }
   ],
   "source": [
    "print(np.zeros(10)) #创建都是0的array\n",
    "print(np.empty([2,3,2],dtype=float)) #都是空的array"
   ]
  },
  {
   "cell_type": "code",
   "execution_count": 9,
   "metadata": {},
   "outputs": [
    {
     "name": "stdout",
     "output_type": "stream",
     "text": [
      "[ 0  1  2  3  4  5  6  7  8  9 10 11 12 13 14]\n"
     ]
    }
   ],
   "source": [
    "print(np.arange(15)) # 类似range函数，但更强大"
   ]
  },
  {
   "cell_type": "code",
   "execution_count": 11,
   "metadata": {},
   "outputs": [
    {
     "name": "stdout",
     "output_type": "stream",
     "text": [
      "[[1 0 0]\n",
      " [0 2 0]\n",
      " [0 0 3]]\n",
      "[[10 11 12]\n",
      " [13 14 15]\n",
      " [16 17 18]]\n",
      "[10 14 18]\n",
      "[11 15]\n"
     ]
    }
   ],
   "source": [
    "print(np.diag((1,2,3)))# 创建对角阵\n",
    "x = np.arange(10,19).reshape((3,3))\n",
    "print(x)\n",
    "print(np.diag(x)) #提取对角\n",
    "print(np.diag(x,1)) #注意对角线的位置"
   ]
  },
  {
   "cell_type": "markdown",
   "metadata": {},
   "source": [
    "### 1.2array数据类型\n",
    "\n",
    "- 要使用astype来进行转化。转化的过程中产生一份拷贝。\n",
    "\n",
    "![](2.png)"
   ]
  },
  {
   "cell_type": "code",
   "execution_count": 11,
   "metadata": {},
   "outputs": [
    {
     "name": "stdout",
     "output_type": "stream",
     "text": [
      "float64\n"
     ]
    }
   ],
   "source": [
    "arr1 = np.array([1,2,3],dtype=np.float64) #初始化显式声明\n",
    "print(arr1.dtype)"
   ]
  },
  {
   "cell_type": "code",
   "execution_count": 18,
   "metadata": {},
   "outputs": [
    {
     "name": "stdout",
     "output_type": "stream",
     "text": [
      "int32\n",
      "[b'15' b'1.6']\n",
      "[ 15.    1.6]\n"
     ]
    }
   ],
   "source": [
    "int_arr1 = arr1.astype(np.int) # 类型转化\n",
    "print(int_arr1.dtype)\n",
    "#浮点型=>整型。向下取整\n",
    "\n",
    "strintArr = np.array(['15','1.6'],dtype=np.string_)\n",
    "print(strintArr)\n",
    "print(strintArr.astype(np.float))"
   ]
  },
  {
   "cell_type": "markdown",
   "metadata": {},
   "source": [
    "### 1.3数组运算\n",
    "\n",
    "**不用再写循环了，运算符号会被映射到每个element**"
   ]
  },
  {
   "cell_type": "markdown",
   "metadata": {},
   "source": [
    "### 1.4切片和索引\n",
    "\n",
    "**注意：如果需要一份拷贝（副本），而不是视图，需要调用arr.copy()/arr[索引]copy()。**\n",
    "\n",
    "![](3.png)"
   ]
  },
  {
   "cell_type": "code",
   "execution_count": 25,
   "metadata": {},
   "outputs": [
    {
     "name": "stdout",
     "output_type": "stream",
     "text": [
      "[[1 2 3]\n",
      " [4 5 6]]\n",
      "[1 2 3]\n",
      "3\n",
      "[2 5]\n"
     ]
    }
   ],
   "source": [
    "arr = np.array([[1,2,3],[4,5,6]])\n",
    "print(arr)\n",
    "print(arr[0])\n",
    "print(arr[0,2]) #(0,2)\n",
    "print(arr[:,1])"
   ]
  },
  {
   "cell_type": "markdown",
   "metadata": {},
   "source": [
    "### 1.5布尔值索引\n",
    "\n",
    "**不是 or 运算**\n",
    "- |：或\n",
    "- &：且"
   ]
  },
  {
   "cell_type": "code",
   "execution_count": 30,
   "metadata": {},
   "outputs": [
    {
     "name": "stdout",
     "output_type": "stream",
     "text": [
      "['a' 'b' 'c' 'd' 'e' 'f' 'g']\n",
      "[[ 1.19251264  0.22746816 -1.05968475  0.36553691]\n",
      " [-0.87272129  0.15983765  1.05599441 -0.34609556]\n",
      " [-0.09671786 -0.19573923 -0.83697376 -1.07516871]\n",
      " [-1.91951334  0.29178043  0.77103957 -0.00420115]\n",
      " [ 0.86798399  0.25577025  0.34729878 -0.35262573]\n",
      " [-1.7260201   0.45041534  0.41955063 -0.05338469]\n",
      " [-1.28550254 -0.21678863  0.52706647 -0.32517928]]\n"
     ]
    }
   ],
   "source": [
    "names = np.array(['a','b','c','d','e','f','g'])\n",
    "data = np.random.randn(7,4)\n",
    "print(names)\n",
    "print(data)"
   ]
  },
  {
   "cell_type": "code",
   "execution_count": 40,
   "metadata": {},
   "outputs": [
    {
     "name": "stdout",
     "output_type": "stream",
     "text": [
      "[[-0.87272129  0.15983765  1.05599441 -0.34609556]]\n",
      "[[-0.87272129  0.15983765  1.05599441 -0.34609556]]\n"
     ]
    }
   ],
   "source": [
    "print(data[names=='b']) \n",
    "print(data[names=='b',:]) #注意形状。因为names=='b'不确定，所以为了不损失，维度还是2维"
   ]
  },
  {
   "cell_type": "code",
   "execution_count": 43,
   "metadata": {},
   "outputs": [
    {
     "name": "stdout",
     "output_type": "stream",
     "text": [
      "[ True  True False False False False False]\n"
     ]
    }
   ],
   "source": [
    "mask = (names=='a') | (names=='b')\n",
    "print(mask)"
   ]
  },
  {
   "cell_type": "markdown",
   "metadata": {},
   "source": [
    "### 1.6花式索引:不同于切片\n",
    "\n",
    "**注意`[]`的嵌套**"
   ]
  },
  {
   "cell_type": "code",
   "execution_count": 44,
   "metadata": {},
   "outputs": [
    {
     "name": "stdout",
     "output_type": "stream",
     "text": [
      "[[ 0.  0.  0.  0.]\n",
      " [ 1.  1.  1.  1.]\n",
      " [ 2.  2.  2.  2.]\n",
      " [ 3.  3.  3.  3.]\n",
      " [ 4.  4.  4.  4.]\n",
      " [ 5.  5.  5.  5.]\n",
      " [ 6.  6.  6.  6.]\n",
      " [ 7.  7.  7.  7.]]\n"
     ]
    }
   ],
   "source": [
    "arr = np.empty((8,4))\n",
    "for i in range(8):\n",
    "    arr[i]=i\n",
    "print(arr)"
   ]
  },
  {
   "cell_type": "code",
   "execution_count": 47,
   "metadata": {},
   "outputs": [
    {
     "name": "stdout",
     "output_type": "stream",
     "text": [
      "4.0\n",
      "[[ 4.  4.  4.  4.]\n",
      " [ 3.  3.  3.  3.]]\n"
     ]
    }
   ],
   "source": [
    "print(arr[4,3])\n",
    "print(arr[[4,3]])"
   ]
  },
  {
   "cell_type": "code",
   "execution_count": 12,
   "metadata": {},
   "outputs": [
    {
     "name": "stdout",
     "output_type": "stream",
     "text": [
      "[[ 0  1  2  3]\n",
      " [ 4  5  6  7]\n",
      " [ 8  9 10 11]\n",
      " [12 13 14 15]\n",
      " [16 17 18 19]\n",
      " [20 21 22 23]\n",
      " [24 25 26 27]\n",
      " [28 29 30 31]]\n",
      "(8, 4)\n"
     ]
    }
   ],
   "source": [
    "arr = np.arange(32).reshape((8,4))\n",
    "print(arr)\n",
    "print(arr.shape)"
   ]
  },
  {
   "cell_type": "code",
   "execution_count": 13,
   "metadata": {},
   "outputs": [
    {
     "name": "stdout",
     "output_type": "stream",
     "text": [
      "[ 4 23 29 10]\n",
      "[[ 4  7  5  6]\n",
      " [20 23 21 22]\n",
      " [28 31 29 30]\n",
      " [ 8 11  9 10]]\n"
     ]
    }
   ],
   "source": [
    "print(arr[[1,5,7,2],[0,3,1,2]])\n",
    "print(arr[[1,5,7,2]][:,[0,3,1,2]])"
   ]
  },
  {
   "cell_type": "markdown",
   "metadata": {},
   "source": [
    "### 1.7数组转置和轴对换\n",
    "\n",
    "- reshape(形状)：设置维度，变化形状\n",
    "- transpose()/.T：转置数组\n",
    "- np.dot(a1,a2..):当做向量乘法"
   ]
  },
  {
   "cell_type": "markdown",
   "metadata": {},
   "source": [
    "### 1.8数组重复\n",
    "\n",
    "- np.tile()"
   ]
  },
  {
   "cell_type": "code",
   "execution_count": 8,
   "metadata": {},
   "outputs": [
    {
     "name": "stdout",
     "output_type": "stream",
     "text": [
      "[0 1 3 0 1 3]\n",
      "[[0 1 3]\n",
      " [0 1 3]]\n",
      "[[0 1 3 0 1 3 0 1 3]\n",
      " [5 9 8 5 9 8 5 9 8]]\n"
     ]
    }
   ],
   "source": [
    "a= [0,1,3]\n",
    "print(np.tile(a,2))\n",
    "print(np.tile(a,(2,1))) #编程2维数组\n",
    "\n",
    "a = [[0,1,3],[5,9,8]]\n",
    "print(np.tile(a,3))"
   ]
  },
  {
   "cell_type": "markdown",
   "metadata": {},
   "source": [
    "\n",
    "### 1.9等比和等差数列\n",
    "- np.linspace():等差\n",
    "- np.logspace()：等比。base默认为10"
   ]
  },
  {
   "cell_type": "code",
   "execution_count": 15,
   "metadata": {},
   "outputs": [
    {
     "name": "stdout",
     "output_type": "stream",
     "text": [
      "[  1.   2.   3.   4.   5.   6.   7.   8.   9.  10.]\n",
      "[ 1.   1.9  2.8  3.7  4.6  5.5  6.4  7.3  8.2  9.1]\n"
     ]
    }
   ],
   "source": [
    "a = np.linspace(1,10,10)\n",
    "#用到三个参数，第一个参数表示起始点、第二个参数表示终止点，第三个参数表示数列的个数\n",
    "print(a)\n",
    "\n",
    "#还可以使用参数endpoint来决定是否包含终止值，如果不设置这个参数，默认是True\n",
    "a = np.linspace(1,10,10,endpoint=False)\n",
    "print(a)"
   ]
  },
  {
   "cell_type": "code",
   "execution_count": 18,
   "metadata": {},
   "outputs": [
    {
     "name": "stdout",
     "output_type": "stream",
     "text": [
      "[ 1.  1.  1.  1.  1.  1.  1.  1.  1.  1.]\n",
      "[   1.    2.    4.    8.   16.   32.   64.  128.  256.  512.]\n"
     ]
    }
   ],
   "source": [
    "a = np.logspace(0,0,10)\n",
    "print(a)\n",
    "a = np.logspace(0,9,10,base=2)\n",
    "print(a)"
   ]
  },
  {
   "cell_type": "markdown",
   "metadata": {},
   "source": [
    "## 2.通用函数：快速的元素及数组函数\n",
    "\n",
    "**元素级，是针对每个element。并且，函数分为一元（一个参数）和二元（两个参数）**\n",
    "\n",
    "**一元的func：**\n",
    "![](4.png)\n",
    "![](5.png)\n",
    "\n",
    "<br/>\n",
    "**二元的func：**\n",
    "![](6.png)"
   ]
  },
  {
   "cell_type": "code",
   "execution_count": 8,
   "metadata": {},
   "outputs": [
    {
     "name": "stdout",
     "output_type": "stream",
     "text": [
      "[0 1 2 3 4 5 6 7 8 9]\n",
      "[  1.00000000e+00   2.71828183e+00   7.38905610e+00   2.00855369e+01\n",
      "   5.45981500e+01   1.48413159e+02   4.03428793e+02   1.09663316e+03\n",
      "   2.98095799e+03   8.10308393e+03]\n",
      "[ 0.          1.          1.41421356  1.73205081  2.          2.23606798\n",
      "  2.44948974  2.64575131  2.82842712  3.        ]\n",
      "(array([ 0.,  0.,  0.,  0.,  0.,  0.,  0.,  0.,  0.,  0.]), array([ 0.,  1.,  2.,  3.,  4.,  5.,  6.,  7.,  8.,  9.]))\n"
     ]
    }
   ],
   "source": [
    "arr = np.arange(10)\n",
    "print(arr)\n",
    "print(np.exp(arr))\n",
    "print(np.sqrt(arr))\n",
    "print(np.modf(arr)) #用于浮点数数组的整数部分和小数部分"
   ]
  },
  {
   "cell_type": "code",
   "execution_count": 6,
   "metadata": {},
   "outputs": [
    {
     "name": "stdout",
     "output_type": "stream",
     "text": [
      "x: [-0.95850365 -1.04703965  1.1886987   0.56798014 -0.45694937  0.15069229\n",
      " -0.40014771  1.34484067] ;\n",
      "y: [ 0.13101485 -1.85842918  0.41106248  1.0749786   0.1840417  -0.26923493\n",
      "  0.76304996  1.78898707]\n",
      "[ 0.13101485 -1.04703965  1.1886987   1.0749786   0.1840417   0.15069229\n",
      "  0.76304996  1.78898707]\n"
     ]
    }
   ],
   "source": [
    "x = np.random.randn(8)\n",
    "y = np.random.randn(8)\n",
    "print(\"x:\",x,\";\\ny:\",y)\n",
    "print(np.maximum(x,y)) # 求元素级的最大值"
   ]
  },
  {
   "cell_type": "markdown",
   "metadata": {},
   "source": [
    "## 2.利用数组进行数据处理"
   ]
  },
  {
   "cell_type": "markdown",
   "metadata": {},
   "source": [
    "### 2.1条件逻辑表述为数组运算\n",
    "\n",
    "- np.where(condition,xarr,yarr),优点如下：\n",
    "    1. 速度快上n个数量级\n",
    "    2. 针对每个element实现的if else\n",
    "    3. 第二个和第三个参数，除了数组，还可以是标量值"
   ]
  },
  {
   "cell_type": "code",
   "execution_count": 9,
   "metadata": {},
   "outputs": [
    {
     "name": "stdout",
     "output_type": "stream",
     "text": [
      "[1.1000000000000001, 2.2000000000000002, 1.3, 1.3999999999999999, 2.5]\n",
      "[ 1.1  2.2  1.3  1.4  2.5]\n"
     ]
    }
   ],
   "source": [
    "xarr = np.array([1.1,1.2,1.3,1.4,1.5])\n",
    "yarr = np.array([2.1,2.2,2.3,2.4,2.5])\n",
    "cond = np.array([True,False,True,True,False])\n",
    "result = [(x if c else y) for x,y,c in zip(xarr,yarr,cond)] # 原来的方法\n",
    "print(result)\n",
    "\n",
    "result = np.where(cond,xarr,yarr)\n",
    "print(result)"
   ]
  },
  {
   "cell_type": "code",
   "execution_count": 10,
   "metadata": {},
   "outputs": [
    {
     "name": "stdout",
     "output_type": "stream",
     "text": [
      "[[ 0.59503627  0.53821458 -0.46326505 -0.53595914]\n",
      " [-0.25468951 -0.44695157  0.46815475  0.77838542]\n",
      " [-0.3850164   0.39158841  0.11306119 -0.44023648]\n",
      " [ 0.74045044 -0.2408556  -1.01937278  0.32737532]]\n",
      "[[ 2  2 -2 -2]\n",
      " [-2 -2  2  2]\n",
      " [-2  2  2 -2]\n",
      " [ 2 -2 -2  2]]\n"
     ]
    }
   ],
   "source": [
    "arr = np.random.randn(4,4)\n",
    "print(arr)\n",
    "print(np.where(arr>0,2,-2)) #大于0的为2，小于0的为-2"
   ]
  },
  {
   "cell_type": "markdown",
   "metadata": {},
   "source": [
    "**这里有个更难的例子：**\n",
    "![](7.png)"
   ]
  },
  {
   "cell_type": "markdown",
   "metadata": {},
   "source": [
    "### 2.2数学和统计方法 \n",
    "\n",
    "**即可以当做数组的方法调用，也可以当做顶级NumPy函数调用**\n",
    "\n",
    "- `sum/mean`等为聚合运算\n",
    "- `cumsum/cumprod`：不聚合，产生一个由中间结果组成的数组\n",
    "\n",
    "![](8.png)"
   ]
  },
  {
   "cell_type": "code",
   "execution_count": 16,
   "metadata": {},
   "outputs": [
    {
     "name": "stdout",
     "output_type": "stream",
     "text": [
      "0.486269616896\n",
      "[ 0.26406933  0.68176035  0.54759211  0.69419806  0.24372824]\n",
      "0.486269616896\n",
      "[ 0.26406933  0.68176035  0.54759211  0.69419806  0.24372824]\n"
     ]
    }
   ],
   "source": [
    "arr = np.random.rand(5,4)\n",
    "print(arr.mean())\n",
    "print(arr.mean(axis = 1))\n",
    "print(np.mean(arr))\n",
    "print(np.mean(arr,axis=1))"
   ]
  },
  {
   "cell_type": "code",
   "execution_count": 17,
   "metadata": {
    "scrolled": true
   },
   "outputs": [
    {
     "name": "stdout",
     "output_type": "stream",
     "text": [
      "[ 0.08485774  0.41551307  0.83665035  1.05627732  2.02498055  2.31023776\n",
      "  2.78723692  3.78331871  4.49977774  5.05458786  5.6577695   5.97368714\n",
      "  6.43269243  7.34869806  7.93297889  8.75047938  8.89718805  8.99359637\n",
      "  9.61767525  9.72539234]\n"
     ]
    }
   ],
   "source": [
    "print(np.cumsum(arr))"
   ]
  },
  {
   "cell_type": "markdown",
   "metadata": {},
   "source": [
    "### 2.3布尔型方法\n",
    "\n",
    "**注意：对于上面这些方法，bool型会被自动转化为1/0**\n",
    "\n",
    "- any:检测是否有一个True\n",
    "- all:检测是否都为True"
   ]
  },
  {
   "cell_type": "code",
   "execution_count": 18,
   "metadata": {},
   "outputs": [
    {
     "name": "stdout",
     "output_type": "stream",
     "text": [
      "50\n"
     ]
    }
   ],
   "source": [
    "arr = np.random.randn(100)\n",
    "print((arr>0).sum())"
   ]
  },
  {
   "cell_type": "code",
   "execution_count": 19,
   "metadata": {},
   "outputs": [
    {
     "name": "stdout",
     "output_type": "stream",
     "text": [
      "True\n",
      "False\n"
     ]
    }
   ],
   "source": [
    "boolArr = np.array([False,False,True,False])\n",
    "print(boolArr.any())\n",
    "print(boolArr.all())"
   ]
  },
  {
   "cell_type": "markdown",
   "metadata": {},
   "source": [
    "### 2.4 排序\n",
    "\n",
    "**调用后，原来的arr就改变了**"
   ]
  },
  {
   "cell_type": "code",
   "execution_count": 23,
   "metadata": {},
   "outputs": [
    {
     "name": "stdout",
     "output_type": "stream",
     "text": [
      "[ 0.65805019  1.1477457  -0.13527229 -0.36565657 -0.22426346 -0.5084691\n",
      "  0.57423863  1.67541665]\n",
      "[-0.5084691  -0.36565657 -0.22426346 -0.13527229  0.57423863  0.65805019\n",
      "  1.1477457   1.67541665]\n",
      "[[-0.8629666  -1.14722197 -0.23675518]\n",
      " [ 0.06331798  0.44684519  0.36401337]\n",
      " [ 0.71542329  0.70223347 -0.72877248]\n",
      " [ 1.03857508  0.40552221  1.97313196]\n",
      " [ 0.54667853 -0.45607286 -0.82201063]]\n",
      "[[-1.14722197 -0.8629666  -0.23675518]\n",
      " [ 0.06331798  0.36401337  0.44684519]\n",
      " [-0.72877248  0.70223347  0.71542329]\n",
      " [ 0.40552221  1.03857508  1.97313196]\n",
      " [-0.82201063 -0.45607286  0.54667853]]\n"
     ]
    }
   ],
   "source": [
    "arr = np.random.randn(8)\n",
    "print(arr)\n",
    "arr.sort()\n",
    "print(arr)\n",
    "\n",
    "arr = np.random.randn(5,3)\n",
    "print(arr)\n",
    "arr.sort(1)\n",
    "print(arr)"
   ]
  },
  {
   "cell_type": "markdown",
   "metadata": {},
   "source": [
    "### 2.5去重和其他集合逻辑\n",
    "\n",
    "- unique(x)：去重，并返回排序结果\n",
    "- in1d(x,y):得到x的元素是否包含于y数组的bool型数组\n",
    "\n",
    "![](9.png)"
   ]
  },
  {
   "cell_type": "markdown",
   "metadata": {},
   "source": [
    "## 3.随机生成\n",
    "\n",
    "**位于：`np.random`中。并且速度快上很多数量级，除此之外，做了array的扩充，否则原生的random进行运算会报错**\n",
    "![](10.png)"
   ]
  },
  {
   "cell_type": "markdown",
   "metadata": {},
   "source": [
    "### 示例：随机漫步"
   ]
  },
  {
   "cell_type": "code",
   "execution_count": 28,
   "metadata": {
    "collapsed": true
   },
   "outputs": [],
   "source": [
    "# python版本的\n",
    "import random\n",
    "position = 0\n",
    "walk = [position]\n",
    "steps = 1000\n",
    "for i in range(steps):\n",
    "    step=1 if random.randint(0,1) else -1\n",
    "    position += step\n",
    "    walk.append(position)\n",
    "    \n",
    "# numpy版本的\n",
    "steps = 1000\n",
    "draws = np.random.randint(0,2,size=steps) #size还可以是二维数组，这样，就能产生一次多个随机漫步\n",
    "steps = np.where(draws>0,1,-1)\n",
    "walk = steps.cumsum()# 总和\n",
    "# print(walk.min(),walk.max())"
   ]
  },
  {
   "cell_type": "markdown",
   "metadata": {},
   "source": [
    "## 4. 存储和读取"
   ]
  },
  {
   "cell_type": "markdown",
   "metadata": {},
   "source": [
    "### 4.1二进制=>磁盘\n",
    "\n",
    "- np.save('name',arr):如果没有.npy，会自动加上\n",
    "- np.load('name')\n",
    "\n",
    "- np.savez('name.npz',a=arr1,b=arr2,...):保存到压缩文件中。\n",
    "- np.load('name.npz'):这时候，返回字典。键值是上面的参数"
   ]
  },
  {
   "cell_type": "code",
   "execution_count": 29,
   "metadata": {},
   "outputs": [
    {
     "name": "stdout",
     "output_type": "stream",
     "text": [
      "[[-1.14722197 -0.8629666  -0.23675518]\n",
      " [ 0.06331798  0.36401337  0.44684519]\n",
      " [-0.72877248  0.70223347  0.71542329]\n",
      " [ 0.40552221  1.03857508  1.97313196]\n",
      " [-0.82201063 -0.45607286  0.54667853]]\n"
     ]
    }
   ],
   "source": [
    "xarr = np.arange(10)\n",
    "yarr = np.arange(50)\n",
    "np.save('xarr',arr)\n",
    "print(np.load('xarr.npy'))"
   ]
  },
  {
   "cell_type": "code",
   "execution_count": 30,
   "metadata": {},
   "outputs": [
    {
     "name": "stdout",
     "output_type": "stream",
     "text": [
      "[0 1 2 3 4 5 6 7 8 9]\n",
      "[ 0  1  2  3  4  5  6  7  8  9 10 11 12 13 14 15 16 17 18 19 20 21 22 23 24\n",
      " 25 26 27 28 29 30 31 32 33 34 35 36 37 38 39 40 41 42 43 44 45 46 47 48 49]\n"
     ]
    }
   ],
   "source": [
    "np.savez('t.npz',x=xarr,y=yarr)\n",
    "t = np.load('t.npz')\n",
    "print(t['x'])\n",
    "print(t['y'])"
   ]
  },
  {
   "cell_type": "markdown",
   "metadata": {},
   "source": [
    "### 4.2存取文本文件\n",
    "\n",
    "**看截图。更推荐，pandas处理**\n",
    "![](11.png)"
   ]
  },
  {
   "cell_type": "markdown",
   "metadata": {},
   "source": [
    "## 5.线性代数\n",
    "\n",
    "**更推荐spicy库**\n",
    "![](12.png)"
   ]
  }
 ],
 "metadata": {
  "kernelspec": {
   "display_name": "Python 3",
   "language": "python",
   "name": "python3"
  },
  "language_info": {
   "codemirror_mode": {
    "name": "ipython",
    "version": 3
   },
   "file_extension": ".py",
   "mimetype": "text/x-python",
   "name": "python",
   "nbconvert_exporter": "python",
   "pygments_lexer": "ipython3",
   "version": "3.6.1"
  }
 },
 "nbformat": 4,
 "nbformat_minor": 2
}
