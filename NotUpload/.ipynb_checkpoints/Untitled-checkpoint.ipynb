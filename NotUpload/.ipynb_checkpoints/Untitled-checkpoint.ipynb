{
 "cells": [
  {
   "cell_type": "code",
   "execution_count": 5,
   "metadata": {},
   "outputs": [
    {
     "name": "stdout",
     "output_type": "stream",
     "text": [
      "time.struct_time(tm_year=2017, tm_mon=1, tm_mday=1, tm_hour=0, tm_min=0, tm_sec=0, tm_wday=6, tm_yday=1, tm_isdst=-1)\n",
      "time.struct_time(tm_year=2017, tm_mon=8, tm_mday=12, tm_hour=0, tm_min=0, tm_sec=0, tm_wday=5, tm_yday=224, tm_isdst=-1)\n",
      "20170101-00:00:00\n",
      "20170812-00:00:00\n"
     ]
    }
   ],
   "source": [
    "import time\n",
    "start = \"2017-01-01\"\n",
    "end = \"2017-8-12\"\n",
    "\n",
    "startTime = time.strptime(start,\"%Y-%m-%d\")\n",
    "endTime = time.strptime(end,\"%Y-%m-%d\") #第二个参数format指定格式\n",
    "\n",
    "print(startTime);print(endTime)\n",
    "\n",
    "_start = time.strftime('%Y%m%d-%H:%M:%S',startTime)\n",
    "_end = time.strftime('%Y%m%d-%H:%M:%S',endTime) #参数位置刚好相反\n",
    "print(_start)\n",
    "print(_end)"
   ]
  },
  {
   "cell_type": "code",
   "execution_count": null,
   "metadata": {
    "collapsed": true
   },
   "outputs": [],
   "source": []
  }
 ],
 "metadata": {
  "kernelspec": {
   "display_name": "Python 3",
   "language": "python",
   "name": "python3"
  },
  "language_info": {
   "codemirror_mode": {
    "name": "ipython",
    "version": 3
   },
   "file_extension": ".py",
   "mimetype": "text/x-python",
   "name": "python",
   "nbconvert_exporter": "python",
   "pygments_lexer": "ipython3",
   "version": "3.6.1"
  }
 },
 "nbformat": 4,
 "nbformat_minor": 2
}
